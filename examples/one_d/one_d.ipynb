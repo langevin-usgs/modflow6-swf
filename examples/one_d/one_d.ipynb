{
 "cells": [
  {
   "cell_type": "markdown",
   "metadata": {},
   "source": [
    "# One-Dimensional Flow and Comparison to Analytical Solution\n",
    "\n",
    "Use DIS2D (overland flow) and DISV1D (Channel Flow) to simulate one-dimensional flow and compare the results to the analytical solution."
   ]
  },
  {
   "cell_type": "code",
   "execution_count": null,
   "metadata": {},
   "outputs": [],
   "source": [
    "import pathlib as pl\n",
    "import matplotlib.pyplot as plt\n",
    "import numpy as np\n",
    "import flopy\n",
    "from build_simulation import build_simulation, make_plot, print_flow_comparison"
   ]
  },
  {
   "cell_type": "code",
   "execution_count": null,
   "metadata": {},
   "outputs": [],
   "source": [
    "ws = pl.Path('./mf6_sim')\n",
    "name = 'oned'"
   ]
  },
  {
   "cell_type": "code",
   "execution_count": null,
   "metadata": {},
   "outputs": [],
   "source": [
    "def h_analytical(x, x0, x1, h0, h1):\n",
    "    rho = (x - x0) / (x1 - x0)\n",
    "    h = ((1 - rho) * h0 ** (13./3.) + rho * h1 ** (13./3.)) ** (3./13.)\n",
    "    return h\n",
    "\n",
    "def calc_flow(x0, x1, h0, h1, roughness):\n",
    "    q = (1. / roughness) * np.sqrt(3. / 13. * (h0 ** (13/3) - h1 ** (13/3)) / (x1 - x0))\n",
    "    return q"
   ]
  },
  {
   "cell_type": "code",
   "execution_count": null,
   "metadata": {},
   "outputs": [],
   "source": [
    "# make modflow model\n",
    "exe_name = \"/Users/langevin/langevin/dev/modflow6-fork.git/bin/mf6\"\n",
    "sim_ws = ws\n",
    "\n",
    "Lx = 110000\n",
    "ncol = 501\n",
    "dx = Lx / ncol\n",
    "\n",
    "roughness = 1.0\n",
    "h0 = 10.0\n",
    "h1 = 1.0\n",
    "x0 = 0.5 * dx\n",
    "x1 = Lx - 0.5 * dx\n",
    "x = np.linspace(x0, x1, ncol)\n",
    "h_analytical_solution = h_analytical(x, x0, x1, h0, h1)\n",
    "\n",
    "# numerical settings\n",
    "dev_swr_conductance = False\n",
    "central_in_space = False\n",
    "save_velocity = False\n",
    "\n",
    "if False:\n",
    "    fig = plt.figure(figsize=(6, 4))\n",
    "    ax = plt.subplot(1, 1, 1)\n",
    "    ax.plot(x, h_analytical_solution, 'bo-')\n",
    "    ax.set_xlim(0, Lx)\n",
    "    ax.set_ylim(0, h0)\n",
    "    ax.set_xlabel(\"X-distance, in meters\")\n",
    "    ax.set_ylabel(\"Stage, in meters\")\n",
    "    ax.set_title(\"Analytical Solution\")"
   ]
  },
  {
   "cell_type": "code",
   "execution_count": null,
   "metadata": {},
   "outputs": [],
   "source": [
    "# Create, write, and run simulation\n",
    "sim = build_simulation(\n",
    "    sim_ws,\n",
    "    exe_name,\n",
    "    ncol,\n",
    "    dx,\n",
    "    h0,\n",
    "    h1,\n",
    "    roughness,\n",
    "    dev_swr_conductance,\n",
    "    central_in_space,\n",
    "    save_velocity,\n",
    ")\n",
    "sim.write_simulation()\n",
    "sim.run_simulation()"
   ]
  },
  {
   "cell_type": "code",
   "execution_count": null,
   "metadata": {},
   "outputs": [],
   "source": [
    "channel_symbol = {\n",
    "    \"marker\": \"o\",\n",
    "    \"mfc\": \"none\",\n",
    "    \"mec\": \"red\",\n",
    "    \"ls\": \"none\",\n",
    "    \"label\": \"Channel (DISV1D)\",\n",
    "}\n",
    "channel_error_symbol = {\n",
    "    \"marker\": None,\n",
    "    \"color\": \"red\",\n",
    "    \"ls\": \"dashed\",\n",
    "    \"linewidth\": 1.0,\n",
    "}\n",
    "overland_symbol = {\n",
    "    \"marker\": \"^\",\n",
    "    \"mec\": \"blue\",\n",
    "    \"mfc\": \"none\",\n",
    "    \"ls\": \"none\",\n",
    "    \"label\": \"Overland (DIS2D)\",\n",
    "}\n",
    "overland_error_symbol = {\n",
    "    \"marker\": None,\n",
    "    \"color\": \"blue\",\n",
    "    \"ls\": \"dotted\",\n",
    "    \"linewidth\": 1.0,\n",
    "}\n",
    "symbols = {\n",
    "    \"channel\": channel_symbol, \n",
    "    \"overland\": overland_symbol,\n",
    "    \"channel_error\": channel_error_symbol, \n",
    "    \"overland_error\": overland_error_symbol\n",
    "}\n",
    "extent = [0, Lx, 0, h0 + 1]\n",
    "istep = 10\n",
    "fig, ax = make_plot(sim, x, h_analytical_solution, extent, istep, symbols)\n",
    "fig.savefig(\"../../doc/figures/oned.png\", dpi=300)\n",
    "fig"
   ]
  },
  {
   "cell_type": "code",
   "execution_count": null,
   "metadata": {},
   "outputs": [],
   "source": [
    "q_analytical = calc_flow(x0, x1, h0, h1, roughness)\n",
    "print_flow_comparison(sim, q_analytical)"
   ]
  },
  {
   "cell_type": "markdown",
   "metadata": {},
   "source": [
    "# Specified Inflow Version"
   ]
  },
  {
   "cell_type": "code",
   "execution_count": null,
   "metadata": {},
   "outputs": [],
   "source": [
    "def h_analytical_specified_inflow(Q0, rough, x, x1, h1):\n",
    "    h = (13./3. * Q0 ** 2 * rough ** 2 * (x1 - x) + h1 ** (13./ 3.)) ** (3./ 13.)\n",
    "    return h"
   ]
  },
  {
   "cell_type": "code",
   "execution_count": null,
   "metadata": {},
   "outputs": [],
   "source": [
    "# Lx = 110000\n",
    "# ncol = 101\n",
    "# dx = Lx / ncol\n",
    "\n",
    "# Q0 = 10.0 # m^2/s\n",
    "# rough = 1.0\n",
    "# h1 = 1.0\n",
    "# x0 = 0.5 * dx\n",
    "# x1 = Lx - 0.5 * dx\n",
    "# x = np.linspace(x0, x1, ncol)\n",
    "Q0 = q_analytical\n",
    "h_analytical2 = h_analytical_specified_inflow(q_analytical, roughness, x, x1, h1)\n",
    "\n",
    "if False:\n",
    "    fig = plt.figure(figsize=(6, 4))\n",
    "    ax = plt.subplot(1, 1, 1)\n",
    "    ax.plot(x, h_analytical2, 'b-')\n",
    "    ax.set_xlim(0, Lx)\n",
    "    ax.set_ylim(0, h_analytical2.max())\n",
    "    ax.set_xlabel(\"X-distance, in meters\")\n",
    "    ax.set_ylabel(\"Stage, in meters\")\n",
    "    ax.set_title(\"Analytical Solution\")\n",
    "    fig"
   ]
  },
  {
   "cell_type": "code",
   "execution_count": null,
   "metadata": {},
   "outputs": [],
   "source": [
    "# Create, write, and run simulation\n",
    "sim = build_simulation(\n",
    "    sim_ws,\n",
    "    exe_name,\n",
    "    ncol,\n",
    "    dx,\n",
    "    h0,\n",
    "    h1,\n",
    "    roughness,\n",
    "    dev_swr_conductance,\n",
    "    central_in_space,\n",
    "    save_velocity,\n",
    "    Q0=Q0\n",
    ")\n",
    "sim.write_simulation()\n",
    "sim.run_simulation()"
   ]
  },
  {
   "cell_type": "code",
   "execution_count": null,
   "metadata": {},
   "outputs": [],
   "source": [
    "extent = [0, Lx, 0, h0 + 1]\n",
    "istep = 10\n",
    "fig, ax = make_plot(sim, x, h_analytical2, extent, istep, symbols)\n",
    "# fig.savefig(\"../../doc/figures/oned.png\", dpi=300)\n",
    "fig"
   ]
  },
  {
   "cell_type": "code",
   "execution_count": null,
   "metadata": {},
   "outputs": [],
   "source": [
    "print_flow_comparison(sim, q_analytical)"
   ]
  },
  {
   "cell_type": "code",
   "execution_count": null,
   "metadata": {},
   "outputs": [],
   "source": []
  }
 ],
 "metadata": {
  "kernelspec": {
   "display_name": "modflow6",
   "language": "python",
   "name": "python3"
  },
  "language_info": {
   "codemirror_mode": {
    "name": "ipython",
    "version": 3
   },
   "file_extension": ".py",
   "mimetype": "text/x-python",
   "name": "python",
   "nbconvert_exporter": "python",
   "pygments_lexer": "ipython3",
   "version": "3.12.5"
  }
 },
 "nbformat": 4,
 "nbformat_minor": 2
}
